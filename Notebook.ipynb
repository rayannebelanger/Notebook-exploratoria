{
  "nbformat": 4,
  "nbformat_minor": 0,
  "metadata": {
    "colab": {
      "provenance": [],
      "authorship_tag": "ABX9TyP0OnA/0RDuj9nE3s1R16va",
      "include_colab_link": true
    },
    "kernelspec": {
      "name": "python3",
      "display_name": "Python 3"
    },
    "language_info": {
      "name": "python"
    }
  },
  "cells": [
    {
      "cell_type": "markdown",
      "metadata": {
        "id": "view-in-github",
        "colab_type": "text"
      },
      "source": [
        "<a href=\"https://colab.research.google.com/github/rayannebelanger/Notebook-exploratoria/blob/main/Notebook.ipynb\" target=\"_parent\"><img src=\"https://colab.research.google.com/assets/colab-badge.svg\" alt=\"Open In Colab\"/></a>"
      ]
    },
    {
      "cell_type": "code",
      "execution_count": 55,
      "metadata": {
        "id": "iG3soj2OJXUY"
      },
      "outputs": [],
      "source": [
        "## Importar as bases Cadastral, Campanhas e compras\n",
        "import pandas as pd\n",
        "import numpy as np"
      ]
    },
    {
      "cell_type": "code",
      "source": [
        "# Carregar a base COMPRAS\n",
        "df_compras = pd.read_csv('COMPRAS.csv')\n",
        "\n",
        "print(\"--- DataFrame COMPRAS carregado. Primeiras 5 linhas: ---\")\n",
        "print(df_compras.head()) # Mostra as 5 primeiras linhas, como uma pré-visualização do Power Query\n",
        "print(\"\\n--- Informações sobre o DataFrame COMPRAS: ---\")\n",
        "df_compras.info() # Mostra informações sobre as colunas"
      ],
      "metadata": {
        "colab": {
          "base_uri": "https://localhost:8080/"
        },
        "id": "feCTxBFkKr_v",
        "outputId": "28049db8-b76f-4cfd-fea0-077456831436"
      },
      "execution_count": 56,
      "outputs": [
        {
          "output_type": "stream",
          "name": "stdout",
          "text": [
            "--- DataFrame COMPRAS carregado. Primeiras 5 linhas: ---\n",
            "  cliente_id data_compra  valor_compra              categoria canal_compra  \\\n",
            "0    C121958  2024-09-25        169.17              Alimentos   Presencial   \n",
            "1    C146867  2024-04-29         73.34        Higiene Pessoal   Presencial   \n",
            "2    C131932  2023-09-11        151.52                Bebidas       Online   \n",
            "3    C103694  2024-01-04        626.98  Utilidades Domésticas       Online   \n",
            "4    C119879  2024-11-04        524.60  Utilidades Domésticas   Presencial   \n",
            "\n",
            "  status_entrega forma_pagamento parcelado  quantidade_parcelas  \n",
            "0       Entregue             Pix       Sim                    4  \n",
            "1       Entregue          Débito       Sim                    2  \n",
            "2       Entregue             Pix       Não                    1  \n",
            "3       Entregue             Pix       Sim                    4  \n",
            "4       Entregue          Boleto       Sim                    2  \n",
            "\n",
            "--- Informações sobre o DataFrame COMPRAS: ---\n",
            "<class 'pandas.core.frame.DataFrame'>\n",
            "RangeIndex: 140000 entries, 0 to 139999\n",
            "Data columns (total 9 columns):\n",
            " #   Column               Non-Null Count   Dtype  \n",
            "---  ------               --------------   -----  \n",
            " 0   cliente_id           140000 non-null  object \n",
            " 1   data_compra          140000 non-null  object \n",
            " 2   valor_compra         140000 non-null  float64\n",
            " 3   categoria            140000 non-null  object \n",
            " 4   canal_compra         140000 non-null  object \n",
            " 5   status_entrega       140000 non-null  object \n",
            " 6   forma_pagamento      139300 non-null  object \n",
            " 7   parcelado            140000 non-null  object \n",
            " 8   quantidade_parcelas  140000 non-null  int64  \n",
            "dtypes: float64(1), int64(1), object(7)\n",
            "memory usage: 9.6+ MB\n"
          ]
        }
      ]
    },
    {
      "cell_type": "code",
      "source": [
        "# Carregar a base CADASTRAL\n",
        "df_cadastral = pd.read_csv('CADASTRAL.csv')\n",
        "\n",
        "print(\"\\n--- DataFrame CADASTRAL carregado. Primeiras 5 linhas: ---\")\n",
        "print(df_cadastral.head())\n",
        "print(\"\\n--- Informações sobre o DataFrame CADASTRAL: ---\")\n",
        "df_cadastral.info()"
      ],
      "metadata": {
        "colab": {
          "base_uri": "https://localhost:8080/"
        },
        "id": "9KoFoKuwLvO4",
        "outputId": "167d96c3-3188-4148-f553-a0621ef1f9da"
      },
      "execution_count": 57,
      "outputs": [
        {
          "output_type": "stream",
          "name": "stdout",
          "text": [
            "\n",
            "--- DataFrame CADASTRAL carregado. Primeiras 5 linhas: ---\n",
            "  cliente_id       sexo  idade faixa_etaria estado     cidade   escolaridade  \\\n",
            "0    C000000   Feminino     23        18-24     PE     Olinda       Superior   \n",
            "1    C000001  Masculino     22        18-24     PE     Outros  Pós-graduação   \n",
            "2    C000002  Masculino     18        18-24     PE  Garanhuns    Fundamental   \n",
            "3    C000003  Masculino     37        35-44     PE   Paulista    Fundamental   \n",
            "4    C000004  Masculino     74          60+     PE     Recife          Médio   \n",
            "\n",
            "                     profissao estado_civil  renda_mensal  score_inicial  \\\n",
            "0                  Comerciante    Casado(a)       3507.09            475   \n",
            "1  Auxiliar de Serviços Gerais  Solteiro(a)       2831.55            584   \n",
            "2                     Autônomo    Casado(a)       1500.00            300   \n",
            "3                  Comerciante  Solteiro(a)       2085.33            338   \n",
            "4                  Vendedor(a)    Casado(a)       1500.00            562   \n",
            "\n",
            "  tipo_cliente  n_dependentes canal_captacao status_cadastro  \n",
            "0    Potencial              0      Indicação         Inativo  \n",
            "1  Tradicional              2    Loja física       Bloqueado  \n",
            "2    Potencial              2      Indicação         Inativo  \n",
            "3  Tradicional              3    Loja física         Inativo  \n",
            "4    Potencial              2      Indicação       Bloqueado  \n",
            "\n",
            "--- Informações sobre o DataFrame CADASTRAL: ---\n",
            "<class 'pandas.core.frame.DataFrame'>\n",
            "RangeIndex: 150000 entries, 0 to 149999\n",
            "Data columns (total 15 columns):\n",
            " #   Column           Non-Null Count   Dtype  \n",
            "---  ------           --------------   -----  \n",
            " 0   cliente_id       150000 non-null  object \n",
            " 1   sexo             150000 non-null  object \n",
            " 2   idade            150000 non-null  int64  \n",
            " 3   faixa_etaria     150000 non-null  object \n",
            " 4   estado           150000 non-null  object \n",
            " 5   cidade           150000 non-null  object \n",
            " 6   escolaridade     150000 non-null  object \n",
            " 7   profissao        150000 non-null  object \n",
            " 8   estado_civil     150000 non-null  object \n",
            " 9   renda_mensal     150000 non-null  float64\n",
            " 10  score_inicial    150000 non-null  int64  \n",
            " 11  tipo_cliente     150000 non-null  object \n",
            " 12  n_dependentes    150000 non-null  int64  \n",
            " 13  canal_captacao   150000 non-null  object \n",
            " 14  status_cadastro  150000 non-null  object \n",
            "dtypes: float64(1), int64(3), object(11)\n",
            "memory usage: 17.2+ MB\n"
          ]
        }
      ]
    },
    {
      "cell_type": "code",
      "source": [
        "# Carregar a base CAMPANHAS\n",
        "df_campanhas = pd.read_csv('CAMPANHAS.csv')\n",
        "\n",
        "print(\"\\n--- DataFrame CAMPANHAS carregado. Primeiras 5 linhas: ---\")\n",
        "print(df_campanhas.head())\n",
        "print(\"\\n--- Informações sobre o DataFrame CAMPANHAS: ---\")\n",
        "df_campanhas.info()"
      ],
      "metadata": {
        "colab": {
          "base_uri": "https://localhost:8080/"
        },
        "id": "ZMg3P9H7L56n",
        "outputId": "160227d1-5d4d-477e-ae19-8a66184e236d"
      },
      "execution_count": 58,
      "outputs": [
        {
          "output_type": "stream",
          "name": "stdout",
          "text": [
            "\n",
            "--- DataFrame CAMPANHAS carregado. Primeiras 5 linhas: ---\n",
            "  cliente_id  data_envio       tema_campanha     canal abriu clicou  \\\n",
            "0    C039242  2025-03-25      Compre e Ganhe  WhatsApp   Sim    Sim   \n",
            "1    C118819  2023-10-19            Cashback       SMS   Não    Não   \n",
            "2    C114009  2024-04-01            Cashback       SMS   Sim    Não   \n",
            "3    C101599  2024-03-21  Desconto Exclusivo     Email   Sim    Sim   \n",
            "4    C088611  2024-12-27        Novo Produto  WhatsApp   Sim    Não   \n",
            "\n",
            "  converteu_em_compra  \n",
            "0                 Não  \n",
            "1                 Não  \n",
            "2                 Sim  \n",
            "3                 Sim  \n",
            "4                 Não  \n",
            "\n",
            "--- Informações sobre o DataFrame CAMPANHAS: ---\n",
            "<class 'pandas.core.frame.DataFrame'>\n",
            "RangeIndex: 100000 entries, 0 to 99999\n",
            "Data columns (total 7 columns):\n",
            " #   Column               Non-Null Count   Dtype \n",
            "---  ------               --------------   ----- \n",
            " 0   cliente_id           100000 non-null  object\n",
            " 1   data_envio           100000 non-null  object\n",
            " 2   tema_campanha        99500 non-null   object\n",
            " 3   canal                100000 non-null  object\n",
            " 4   abriu                100000 non-null  object\n",
            " 5   clicou               99500 non-null   object\n",
            " 6   converteu_em_compra  100000 non-null  object\n",
            "dtypes: object(7)\n",
            "memory usage: 5.3+ MB\n"
          ]
        }
      ]
    },
    {
      "cell_type": "code",
      "source": [
        "# 2. Remoção de Duplicatas (CADASTRAL)\n",
        "\n",
        "df_cadastral.drop_duplicates(inplace=True)"
      ],
      "metadata": {
        "id": "Vey31HfSMvGw"
      },
      "execution_count": 59,
      "outputs": []
    },
    {
      "cell_type": "code",
      "source": [
        "# 3. Remoção de Duplicatas (CAMPANHAS)\n",
        "print(f\"Número de linhas em df_campanhas ANTES da remoção de duplicatas: {len(df_campanhas)}\")\n",
        "\n",
        "# Identificar e contar duplicatas\n",
        "duplicatas_campanhas = df_campanhas.duplicated().sum()\n",
        "print(f\"Número de duplicatas encontradas em df_campanhas (linhas idênticas): {duplicatas_campanhas}\")\n",
        "\n",
        "# Remover duplicatas (mantém a primeira ocorrência por padrão)\n",
        "df_campanhas.drop_duplicates(inplace=True)\n",
        "\n",
        "print(f\"Número de linhas em df_campanhas DEPOIS da remoção de duplicatas: {len(df_campanhas)}\")\n",
        "\n",
        "if duplicatas_campanhas > 0:\n",
        "    print(\"Duplicatas removidas com sucesso de df_campanhas.\")\n",
        "else:\n",
        "    print(\"Nenhuma duplicata encontrada ou removida em df_campanhas.\")"
      ],
      "metadata": {
        "colab": {
          "base_uri": "https://localhost:8080/"
        },
        "id": "PiKlmwR3NfuI",
        "outputId": "d38885cf-e8cc-410b-aa8f-0289beb40258"
      },
      "execution_count": 60,
      "outputs": [
        {
          "output_type": "stream",
          "name": "stdout",
          "text": [
            "Número de linhas em df_campanhas ANTES da remoção de duplicatas: 100000\n",
            "Número de duplicatas encontradas em df_campanhas (linhas idênticas): 0\n",
            "Número de linhas em df_campanhas DEPOIS da remoção de duplicatas: 100000\n",
            "Nenhuma duplicata encontrada ou removida em df_campanhas.\n"
          ]
        }
      ]
    },
    {
      "cell_type": "code",
      "source": [
        "### Tratamento de Valores Ausentes em `tema_campanha`\n",
        "print(f\"Número de valores vazios em 'tema_campanha' ANTES do preenchimento: {df_campanhas['tema_campanha'].isnull().sum()}\")\n",
        "\n",
        "df_campanhas['tema_campanha'].fillna('Não informado', inplace=True)\n",
        "\n",
        "print(f\"Número de valores vazios em 'tema_campanha' DEPOIS do preenchimento: {df_campanhas['tema_campanha'].isnull().sum()}\")\n",
        "\n",
        "if df_campanhas['tema_campanha'].isnull().sum() == 0:\n",
        "    print(\"Sucesso: Todos os valores vazios em 'tema_campanha' foram preenchidos com 'Não informado'.\")\n",
        "else:\n",
        "    print(\"Atenção: Ainda existem valores vazios em 'tema_campanha'. Revise os dados.\")"
      ],
      "metadata": {
        "colab": {
          "base_uri": "https://localhost:8080/"
        },
        "id": "10BqZemDOMJn",
        "outputId": "c3e3bb72-28ac-4f4a-991d-f475b13c3d46"
      },
      "execution_count": 61,
      "outputs": [
        {
          "output_type": "stream",
          "name": "stdout",
          "text": [
            "Número de valores vazios em 'tema_campanha' ANTES do preenchimento: 500\n",
            "Número de valores vazios em 'tema_campanha' DEPOIS do preenchimento: 0\n",
            "Sucesso: Todos os valores vazios em 'tema_campanha' foram preenchidos com 'Não informado'.\n"
          ]
        },
        {
          "output_type": "stream",
          "name": "stderr",
          "text": [
            "/tmp/ipython-input-602806840.py:4: FutureWarning: A value is trying to be set on a copy of a DataFrame or Series through chained assignment using an inplace method.\n",
            "The behavior will change in pandas 3.0. This inplace method will never work because the intermediate object on which we are setting values always behaves as a copy.\n",
            "\n",
            "For example, when doing 'df[col].method(value, inplace=True)', try using 'df.method({col: value}, inplace=True)' or df[col] = df[col].method(value) instead, to perform the operation inplace on the original object.\n",
            "\n",
            "\n",
            "  df_campanhas['tema_campanha'].fillna('Não informado', inplace=True)\n"
          ]
        }
      ]
    },
    {
      "cell_type": "code",
      "source": [
        "### Tratamento de Valores Ausentes em `clicou`\n",
        "print(f\"Número de valores vazios em 'clicou' ANTES do preenchimento: {df_campanhas['clicou'].isnull().sum()}\")\n",
        "\n",
        "df_campanhas['clicou'].fillna('Não informado', inplace=True)\n",
        "\n",
        "print(f\"Número de valores vazios em 'clicou' DEPOIS do preenchimento: {df_campanhas['clicou'].isnull().sum()}\")\n",
        "\n",
        "if df_campanhas['clicou'].isnull().sum() == 0:\n",
        "    print(\"Sucesso: Todos os valores vazios em 'clicou' foram preenchidos com 'Não informado'.\")\n",
        "else:\n",
        "    print(\"Atenção: Ainda existem valores vazios em 'clicou'. Revise os dados.\")"
      ],
      "metadata": {
        "colab": {
          "base_uri": "https://localhost:8080/"
        },
        "id": "oB4sfu7rPahQ",
        "outputId": "87074628-1b03-4d06-bf16-b4e7f955dab0"
      },
      "execution_count": 62,
      "outputs": [
        {
          "output_type": "stream",
          "name": "stdout",
          "text": [
            "Número de valores vazios em 'clicou' ANTES do preenchimento: 500\n",
            "Número de valores vazios em 'clicou' DEPOIS do preenchimento: 0\n",
            "Sucesso: Todos os valores vazios em 'clicou' foram preenchidos com 'Não informado'.\n"
          ]
        },
        {
          "output_type": "stream",
          "name": "stderr",
          "text": [
            "/tmp/ipython-input-2342743944.py:4: FutureWarning: A value is trying to be set on a copy of a DataFrame or Series through chained assignment using an inplace method.\n",
            "The behavior will change in pandas 3.0. This inplace method will never work because the intermediate object on which we are setting values always behaves as a copy.\n",
            "\n",
            "For example, when doing 'df[col].method(value, inplace=True)', try using 'df.method({col: value}, inplace=True)' or df[col] = df[col].method(value) instead, to perform the operation inplace on the original object.\n",
            "\n",
            "\n",
            "  df_campanhas['clicou'].fillna('Não informado', inplace=True)\n"
          ]
        }
      ]
    },
    {
      "cell_type": "code",
      "source": [
        "### Tratamento de Valores Ausentes em `forma_pagamento`\n",
        "print(f\"Número de valores vazios em 'forma_pagamento' ANTES do preenchimento: {df_compras['forma_pagamento'].isnull().sum()}\")\n",
        "\n",
        "df_compras['forma_pagamento'].fillna('Não informado', inplace=True)\n",
        "\n",
        "print(f\"Número de valores vazios em 'forma_pagamento' DEPOIS do preenchimento: {df_compras['forma_pagamento'].isnull().sum()}\")\n",
        "\n",
        "if df_compras['forma_pagamento'].isnull().sum() == 0:\n",
        "    print(\"Sucesso: Todos os valores vazios em 'forma_pagamento' foram preenchidos com 'Não informado'.\")\n",
        "else:\n",
        "    print(\"Atenção: Ainda existem valores vazios em 'forma_pagamento'. Revise os dados.\")"
      ],
      "metadata": {
        "colab": {
          "base_uri": "https://localhost:8080/"
        },
        "id": "Nhrb_7a9P2fw",
        "outputId": "73916aef-77d3-4163-8116-81c1ab318ec6"
      },
      "execution_count": 63,
      "outputs": [
        {
          "output_type": "stream",
          "name": "stdout",
          "text": [
            "Número de valores vazios em 'forma_pagamento' ANTES do preenchimento: 700\n",
            "Número de valores vazios em 'forma_pagamento' DEPOIS do preenchimento: 0\n",
            "Sucesso: Todos os valores vazios em 'forma_pagamento' foram preenchidos com 'Não informado'.\n"
          ]
        },
        {
          "output_type": "stream",
          "name": "stderr",
          "text": [
            "/tmp/ipython-input-3162967090.py:4: FutureWarning: A value is trying to be set on a copy of a DataFrame or Series through chained assignment using an inplace method.\n",
            "The behavior will change in pandas 3.0. This inplace method will never work because the intermediate object on which we are setting values always behaves as a copy.\n",
            "\n",
            "For example, when doing 'df[col].method(value, inplace=True)', try using 'df.method({col: value}, inplace=True)' or df[col] = df[col].method(value) instead, to perform the operation inplace on the original object.\n",
            "\n",
            "\n",
            "  df_compras['forma_pagamento'].fillna('Não informado', inplace=True)\n"
          ]
        }
      ]
    },
    {
      "cell_type": "code",
      "source": [
        "### Remoção de Duplicatas (COMPRAS)\n",
        "print(f\"Número de linhas em df_compras ANTES da remoção de duplicatas: {len(df_compras)}\")\n",
        "\n",
        "# Identificar e contar duplicatas\n",
        "duplicatas_compras = df_compras.duplicated().sum()\n",
        "print(f\"Número de duplicatas encontradas em df_compras (linhas idênticas): {duplicatas_compras}\")\n",
        "\n",
        "# Remover duplicatas (mantém a primeira ocorrência por padrão)\n",
        "df_compras.drop_duplicates(inplace=True)\n",
        "\n",
        "print(f\"Número de linhas em df_compras DEPOIS da remoção de duplicatas: {len(df_compras)}\")\n",
        "\n",
        "if duplicatas_compras > 0:\n",
        "    print(\"Duplicatas removidas com sucesso de df_compras.\")\n",
        "else:\n",
        "    print(\"Nenhuma duplicata encontrada ou removida em df_compras.\")"
      ],
      "metadata": {
        "colab": {
          "base_uri": "https://localhost:8080/"
        },
        "id": "0AUvwdWnQmwY",
        "outputId": "d621742d-3e4b-4a63-db1f-8df4f7dcdc53"
      },
      "execution_count": 64,
      "outputs": [
        {
          "output_type": "stream",
          "name": "stdout",
          "text": [
            "Número de linhas em df_compras ANTES da remoção de duplicatas: 140000\n",
            "Número de duplicatas encontradas em df_compras (linhas idênticas): 0\n",
            "Número de linhas em df_compras DEPOIS da remoção de duplicatas: 140000\n",
            "Nenhuma duplicata encontrada ou removida em df_compras.\n"
          ]
        }
      ]
    },
    {
      "cell_type": "code",
      "source": [
        "## Mesclagem das Bases de Dados\n",
        "# Mesclar df_compras com df_cadastral\n",
        "# 'on=\"cliente_id\"' define a coluna para a junção.\n",
        "# 'how=\"left\"' (ou 'left join') garante que todas as linhas de df_compras sejam mantidas.\n",
        "df_compras = pd.merge(df_compras, df_cadastral, on='cliente_id', how='left')\n",
        "\n",
        "print(\"--- df_compras após mesclar com CADASTRAL. Primeiras 5 linhas: ---\")\n",
        "print(df_compras.head())\n",
        "print(\"\\n--- Informações sobre df_compras após mesclar com CADASTRAL: ---\")\n",
        "df_compras.info()"
      ],
      "metadata": {
        "colab": {
          "base_uri": "https://localhost:8080/"
        },
        "id": "AId1XvESQ95w",
        "outputId": "c68692b4-8ca4-461f-f265-c4eb40e79657"
      },
      "execution_count": 65,
      "outputs": [
        {
          "output_type": "stream",
          "name": "stdout",
          "text": [
            "--- df_compras após mesclar com CADASTRAL. Primeiras 5 linhas: ---\n",
            "  cliente_id data_compra  valor_compra              categoria canal_compra  \\\n",
            "0    C121958  2024-09-25        169.17              Alimentos   Presencial   \n",
            "1    C146867  2024-04-29         73.34        Higiene Pessoal   Presencial   \n",
            "2    C131932  2023-09-11        151.52                Bebidas       Online   \n",
            "3    C103694  2024-01-04        626.98  Utilidades Domésticas       Online   \n",
            "4    C119879  2024-11-04        524.60  Utilidades Domésticas   Presencial   \n",
            "\n",
            "  status_entrega forma_pagamento parcelado  quantidade_parcelas       sexo  \\\n",
            "0       Entregue             Pix       Sim                    4   Feminino   \n",
            "1       Entregue          Débito       Sim                    2   Feminino   \n",
            "2       Entregue             Pix       Não                    1  Masculino   \n",
            "3       Entregue             Pix       Sim                    4  Masculino   \n",
            "4       Entregue          Boleto       Sim                    2   Feminino   \n",
            "\n",
            "   ...    cidade escolaridade                    profissao estado_civil  \\\n",
            "0  ...    Recife        Médio  Auxiliar de Serviços Gerais    Casado(a)   \n",
            "1  ...    Outros  Fundamental                  Comerciante    Casado(a)   \n",
            "2  ...    Olinda  Fundamental  Auxiliar de Serviços Gerais  Solteiro(a)   \n",
            "3  ...  Paulista     Superior                    Estudante  Solteiro(a)   \n",
            "4  ...    Recife  Fundamental        Técnico de Enfermagem  Solteiro(a)   \n",
            "\n",
            "  renda_mensal score_inicial tipo_cliente  n_dependentes  canal_captacao  \\\n",
            "0      2461.66           515  Tradicional              3             App   \n",
            "1      1677.63           347  Tradicional              1             App   \n",
            "2      1699.64           411    Potencial              0       Indicação   \n",
            "3      1733.42           559  Tradicional              1             App   \n",
            "4      1500.00           342  Tradicional              2             App   \n",
            "\n",
            "  status_cadastro  \n",
            "0       Bloqueado  \n",
            "1         Inativo  \n",
            "2         Inativo  \n",
            "3       Bloqueado  \n",
            "4         Inativo  \n",
            "\n",
            "[5 rows x 23 columns]\n",
            "\n",
            "--- Informações sobre df_compras após mesclar com CADASTRAL: ---\n",
            "<class 'pandas.core.frame.DataFrame'>\n",
            "RangeIndex: 140000 entries, 0 to 139999\n",
            "Data columns (total 23 columns):\n",
            " #   Column               Non-Null Count   Dtype  \n",
            "---  ------               --------------   -----  \n",
            " 0   cliente_id           140000 non-null  object \n",
            " 1   data_compra          140000 non-null  object \n",
            " 2   valor_compra         140000 non-null  float64\n",
            " 3   categoria            140000 non-null  object \n",
            " 4   canal_compra         140000 non-null  object \n",
            " 5   status_entrega       140000 non-null  object \n",
            " 6   forma_pagamento      140000 non-null  object \n",
            " 7   parcelado            140000 non-null  object \n",
            " 8   quantidade_parcelas  140000 non-null  int64  \n",
            " 9   sexo                 140000 non-null  object \n",
            " 10  idade                140000 non-null  int64  \n",
            " 11  faixa_etaria         140000 non-null  object \n",
            " 12  estado               140000 non-null  object \n",
            " 13  cidade               140000 non-null  object \n",
            " 14  escolaridade         140000 non-null  object \n",
            " 15  profissao            140000 non-null  object \n",
            " 16  estado_civil         140000 non-null  object \n",
            " 17  renda_mensal         140000 non-null  float64\n",
            " 18  score_inicial        140000 non-null  int64  \n",
            " 19  tipo_cliente         140000 non-null  object \n",
            " 20  n_dependentes        140000 non-null  int64  \n",
            " 21  canal_captacao       140000 non-null  object \n",
            " 22  status_cadastro      140000 non-null  object \n",
            "dtypes: float64(2), int64(4), object(17)\n",
            "memory usage: 24.6+ MB\n"
          ]
        }
      ]
    },
    {
      "cell_type": "code",
      "source": [
        "# Mesclar df_compras (já com dados cadastrais) com df_campanhas\n",
        "# Novamente, o resultado é reatribuído a df_compras.\n",
        "# 'suffixes' é usado para diferenciar colunas com o mesmo nome que podem vir de ambas as bases.\n",
        "# Neste caso, ele ajudará a identificar a origem das colunas se houver alguma sobreposição.\n",
        "df_compras = pd.merge(df_compras, df_campanhas, on='cliente_id', how='left', suffixes=('_compra', '_campanha'))\n",
        "\n",
        "print(\"\\n--- df_compras após mesclar com CAMPANHAS. Primeiras 5 linhas: ---\")\n",
        "print(df_compras.head())\n",
        "print(\"\\n--- Informações sobre df_compras após todos os merges: ---\")\n",
        "df_compras.info()"
      ],
      "metadata": {
        "colab": {
          "base_uri": "https://localhost:8080/"
        },
        "id": "GcZ8QfEQVQa0",
        "outputId": "b8c0a39e-0e60-4dc5-8ec6-c5af73dc1985"
      },
      "execution_count": 66,
      "outputs": [
        {
          "output_type": "stream",
          "name": "stdout",
          "text": [
            "\n",
            "--- df_compras após mesclar com CAMPANHAS. Primeiras 5 linhas: ---\n",
            "  cliente_id data_compra  valor_compra              categoria canal_compra  \\\n",
            "0    C121958  2024-09-25        169.17              Alimentos   Presencial   \n",
            "1    C146867  2024-04-29         73.34        Higiene Pessoal   Presencial   \n",
            "2    C131932  2023-09-11        151.52                Bebidas       Online   \n",
            "3    C103694  2024-01-04        626.98  Utilidades Domésticas       Online   \n",
            "4    C119879  2024-11-04        524.60  Utilidades Domésticas   Presencial   \n",
            "\n",
            "  status_entrega forma_pagamento parcelado  quantidade_parcelas       sexo  \\\n",
            "0       Entregue             Pix       Sim                    4   Feminino   \n",
            "1       Entregue          Débito       Sim                    2   Feminino   \n",
            "2       Entregue             Pix       Não                    1  Masculino   \n",
            "3       Entregue             Pix       Sim                    4  Masculino   \n",
            "4       Entregue          Boleto       Sim                    2   Feminino   \n",
            "\n",
            "   ...  tipo_cliente n_dependentes canal_captacao status_cadastro data_envio  \\\n",
            "0  ...   Tradicional             3            App       Bloqueado        NaN   \n",
            "1  ...   Tradicional             1            App         Inativo        NaN   \n",
            "2  ...     Potencial             0      Indicação         Inativo        NaN   \n",
            "3  ...   Tradicional             1            App       Bloqueado        NaN   \n",
            "4  ...   Tradicional             2            App         Inativo        NaN   \n",
            "\n",
            "  tema_campanha canal  abriu  clicou converteu_em_compra  \n",
            "0           NaN   NaN    NaN     NaN                 NaN  \n",
            "1           NaN   NaN    NaN     NaN                 NaN  \n",
            "2           NaN   NaN    NaN     NaN                 NaN  \n",
            "3           NaN   NaN    NaN     NaN                 NaN  \n",
            "4           NaN   NaN    NaN     NaN                 NaN  \n",
            "\n",
            "[5 rows x 29 columns]\n",
            "\n",
            "--- Informações sobre df_compras após todos os merges: ---\n",
            "<class 'pandas.core.frame.DataFrame'>\n",
            "RangeIndex: 165287 entries, 0 to 165286\n",
            "Data columns (total 29 columns):\n",
            " #   Column               Non-Null Count   Dtype  \n",
            "---  ------               --------------   -----  \n",
            " 0   cliente_id           165287 non-null  object \n",
            " 1   data_compra          165287 non-null  object \n",
            " 2   valor_compra         165287 non-null  float64\n",
            " 3   categoria            165287 non-null  object \n",
            " 4   canal_compra         165287 non-null  object \n",
            " 5   status_entrega       165287 non-null  object \n",
            " 6   forma_pagamento      165287 non-null  object \n",
            " 7   parcelado            165287 non-null  object \n",
            " 8   quantidade_parcelas  165287 non-null  int64  \n",
            " 9   sexo                 165287 non-null  object \n",
            " 10  idade                165287 non-null  int64  \n",
            " 11  faixa_etaria         165287 non-null  object \n",
            " 12  estado               165287 non-null  object \n",
            " 13  cidade               165287 non-null  object \n",
            " 14  escolaridade         165287 non-null  object \n",
            " 15  profissao            165287 non-null  object \n",
            " 16  estado_civil         165287 non-null  object \n",
            " 17  renda_mensal         165287 non-null  float64\n",
            " 18  score_inicial        165287 non-null  int64  \n",
            " 19  tipo_cliente         165287 non-null  object \n",
            " 20  n_dependentes        165287 non-null  int64  \n",
            " 21  canal_captacao       165287 non-null  object \n",
            " 22  status_cadastro      165287 non-null  object \n",
            " 23  data_envio           93249 non-null   object \n",
            " 24  tema_campanha        93249 non-null   object \n",
            " 25  canal                93249 non-null   object \n",
            " 26  abriu                93249 non-null   object \n",
            " 27  clicou               93249 non-null   object \n",
            " 28  converteu_em_compra  93249 non-null   object \n",
            "dtypes: float64(2), int64(4), object(23)\n",
            "memory usage: 36.6+ MB\n"
          ]
        }
      ]
    },
    {
      "cell_type": "markdown",
      "source": [
        "O `df_compras` agora é o principal dataframe, com todas as informações de compras, perfil do cliente e campanhas de marketing e vai ser utilizado para gerar insights."
      ],
      "metadata": {
        "id": "lwrSxoype-RI"
      }
    },
    {
      "cell_type": "code",
      "source": [
        "### KPI: Número Total de Compras\n",
        "# Contar o número total de linhas no DataFrame df_compras\n",
        "numero_total_compras = len(df_compras)\n",
        "\n",
        "print(f\"Número Total de Compras Realizadas: {numero_total_compras}\")"
      ],
      "metadata": {
        "colab": {
          "base_uri": "https://localhost:8080/"
        },
        "id": "otdAPSocXEl8",
        "outputId": "2dbc2839-023c-4a9e-b8d1-1b3a10181108"
      },
      "execution_count": 67,
      "outputs": [
        {
          "output_type": "stream",
          "name": "stdout",
          "text": [
            "Número Total de Compras Realizadas: 165287\n"
          ]
        }
      ]
    },
    {
      "cell_type": "code",
      "source": [
        "### KPI: Idade Média dos Clientes\n",
        "# Calcular a idade média da coluna 'idade' no DataFrame df_compras.\n",
        "idade_media_clientes = df_compras['idade'].mean()\n",
        "\n",
        "print(f\"Idade Média dos Clientes: {idade_media_clientes:.2f} anos\")"
      ],
      "metadata": {
        "colab": {
          "base_uri": "https://localhost:8080/"
        },
        "id": "CUFV0FUVXVH9",
        "outputId": "905c9202-a032-47b7-e29d-148b290fc141"
      },
      "execution_count": 68,
      "outputs": [
        {
          "output_type": "stream",
          "name": "stdout",
          "text": [
            "Idade Média dos Clientes: 39.31 anos\n"
          ]
        }
      ]
    },
    {
      "cell_type": "code",
      "source": [
        "## Exportação do DataFrame Final em csv\n",
        "df_compras.to_csv('df_compras_final.csv', index=False)\n",
        "print(\"'df_compras_final.csv' salvo\")\n"
      ],
      "metadata": {
        "colab": {
          "base_uri": "https://localhost:8080/"
        },
        "id": "FKuZiMKya2BB",
        "outputId": "42e2c18c-44b0-4172-f9b6-78170a41cfab"
      },
      "execution_count": 69,
      "outputs": [
        {
          "output_type": "stream",
          "name": "stdout",
          "text": [
            "'df_compras_final.csv' salvo\n"
          ]
        }
      ]
    },
    {
      "cell_type": "markdown",
      "source": [
        "As duas análises acima foram feitas para ter uma base do perfil de cliente que estamos lidando e para que assim seja possível ter tomada de decisões coerentes com base na idade.\n",
        "\n",
        "E, referente ao total de compras realizadas, foi extraído esse valor para ser usado como base no Power BI para criação dos gráficos e para termos uma base nas análises a seguir."
      ],
      "metadata": {
        "id": "SCrtrEAleG8f"
      }
    },
    {
      "cell_type": "markdown",
      "source": [
        "Neste notebook foram feitos passos de limpeza, tratamento e algumas análises principais e, após isso, foi baixado os dados devidamente ajustados e eles foram importados no Power BI para geração dos gráficos."
      ],
      "metadata": {
        "id": "_ysVlyejd6qv"
      }
    },
    {
      "cell_type": "markdown",
      "source": [
        "## Análise Exploratória de Dados (EDA) e Principais Insights\n",
        "\n",
        "A seguir, realizo análises exploratórias para entender o perfil dos clientes, entender seus padrões de compra e avaliar a efetividade das campanhas de marketing. O objetivo é gerar insights acionáveis que possam impulsionar as vendas e garantir os ganhos da empresa."
      ],
      "metadata": {
        "id": "Ez4o3UUNiWvI"
      }
    },
    {
      "cell_type": "code",
      "source": [
        "# Análise 1: Top Categorias Vendidas (por Número de Compras)\n",
        "\n",
        "# Entender quais categorias de produtos são as mais populares em termos de volume de vendas.\n",
        "\n",
        "# Contando quantas vezes cada categoria aparece nas compras para ver as mais vendidas\n",
        "# .value_counts() conta a frequência de cada item único na coluna 'categoria'\n",
        "# .head(10) mostra apenas as 10 categorias mais frequentes\n",
        "top_categorias_compras = df_compras['categoria'].value_counts().head(10)\n",
        "\n",
        "print(\"Categorias de Produtos Mais Vendidas (por número de compras):\")\n",
        "print(top_categorias_compras)"
      ],
      "metadata": {
        "colab": {
          "base_uri": "https://localhost:8080/"
        },
        "id": "-A8wDZhpiuhw",
        "outputId": "b4b488f8-14af-4453-d63a-66748f8259c8"
      },
      "execution_count": 70,
      "outputs": [
        {
          "output_type": "stream",
          "name": "stdout",
          "text": [
            "Categorias de Produtos Mais Vendidas (por número de compras):\n",
            "categoria\n",
            "Alimentos                49700\n",
            "Limpeza                  24860\n",
            "Higiene Pessoal          24673\n",
            "Bebidas                  19704\n",
            "Utilidades Domésticas    16613\n",
            "Descartáveis             16442\n",
            "Papelaria                13295\n",
            "Name: count, dtype: int64\n"
          ]
        }
      ]
    },
    {
      "cell_type": "markdown",
      "source": [],
      "metadata": {
        "id": "wPdVJCGlmU6p"
      }
    },
    {
      "cell_type": "markdown",
      "source": [
        "Com base no que foi visto acima, é necessário ter um maior foco em otimizar a experiência para essas categorias, garantir estoque e explorar oportunidades em cima disso, principalmente na parte de **Alimentos**, que foi o de destaque."
      ],
      "metadata": {
        "id": "ckLPpbAgjCMB"
      }
    },
    {
      "cell_type": "code",
      "source": [
        "# Análise 2: Canais de Captação Mais eficientes\n",
        "\n",
        "# Se eu sei o canal mais eficiente, a empresa pode otimizá-lo e investir mais nessa área.\n",
        "\n",
        "# Contando quantas compras acontecem em cada canal\n",
        "# .value_counts() serve para contar a frequência de cada canal\n",
        "top_canais_compra = df_compras['canal_captacao'].value_counts()\n",
        "\n",
        "print(\"\\nMeus Canais de Compra Mais Utilizados (por número de compras):\")\n",
        "print(top_canais_compra)"
      ],
      "metadata": {
        "colab": {
          "base_uri": "https://localhost:8080/"
        },
        "id": "u07cRo-VjS1o",
        "outputId": "c34e099f-90f9-4c08-f14a-a217214c6236"
      },
      "execution_count": 71,
      "outputs": [
        {
          "output_type": "stream",
          "name": "stdout",
          "text": [
            "\n",
            "Meus Canais de Compra Mais Utilizados (por número de compras):\n",
            "canal_captacao\n",
            "Loja física         58092\n",
            "App                 49197\n",
            "Indicação           32904\n",
            "Campanha digital    25094\n",
            "Name: count, dtype: int64\n"
          ]
        }
      ]
    },
    {
      "cell_type": "code",
      "source": [
        "# Análise 3: Profissões dos Clientes que Mais Compram\n",
        "\n",
        "# Identificar a profissão pode ajudar a empresa a direcionar marketing e até a criar produtos específicos.\n",
        "\n",
        "# Contando o número de compras por cada profissão\n",
        "top_profissoes_compras = df_compras['profissao'].value_counts().head(10)\n",
        "\n",
        "print(\"\\nProfissões de Clientes que Mais Compram:\")\n",
        "print(top_profissoes_compras)"
      ],
      "metadata": {
        "colab": {
          "base_uri": "https://localhost:8080/"
        },
        "id": "xECuqXedkCD5",
        "outputId": "f859b71a-c535-4067-fa57-ee25387ff880"
      },
      "execution_count": 72,
      "outputs": [
        {
          "output_type": "stream",
          "name": "stdout",
          "text": [
            "\n",
            "Profissões de Clientes que Mais Compram:\n",
            "profissao\n",
            "Vendedor(a)                    29604\n",
            "Auxiliar de Serviços Gerais    24832\n",
            "Professor(a)                   21774\n",
            "Servidor Público               19404\n",
            "Comerciante                    16625\n",
            "Autônomo                       13326\n",
            "Técnico de Enfermagem          13271\n",
            "Estudante                       9903\n",
            "Desempregado(a)                 8295\n",
            "Agricultor(a)                   8253\n",
            "Name: count, dtype: int64\n"
          ]
        }
      ]
    },
    {
      "cell_type": "markdown",
      "source": [
        "# Conclusões\n",
        "\n",
        "Acima, eu fiz análises chaves para entender o perfil de um cliente rotineiro, mas há análises com gráficos diretamente no Power BI em que é possível verificar mais ainda sobre esse perfil dos clientes e aplicar estratégias com base nisso.\n",
        "\n",
        "Mas, apenas para concluir, este insight atual permite uma otimização precisa dos investimentos em marketing e vendas. Ao focar em atrair clientes pelo 'Loja Física' que se enquadram no perfil de 'Vendedor' (com cerca de 39 anos), a empresa pode direcioná-los mais eficazmente para as categorias de 'Alimentos e Limpeza', maximizando a taxa de conversão e a receita por cliente."
      ],
      "metadata": {
        "id": "FEXFOKyCkmv5"
      }
    },
    {
      "cell_type": "code",
      "source": [],
      "metadata": {
        "id": "XyF-G8QWmiAY"
      },
      "execution_count": 72,
      "outputs": []
    }
  ]
}